{
 "cells": [
  {
   "cell_type": "code",
   "execution_count": 1,
   "id": "c0f329ee",
   "metadata": {},
   "outputs": [],
   "source": [
    "from monai.bundle import get_all_bundles_list, get_bundle_info, get_bundle_versions, download\n",
    "from monai.bundle.config_parser import ConfigParser\n",
    "import tempfile\n",
    "import os"
   ]
  },
  {
   "cell_type": "code",
   "execution_count": 28,
   "id": "4cdd0b2a",
   "metadata": {},
   "outputs": [],
   "source": [
    "def get_bundle_web_data(bundle_name, download_dir):\n",
    "    web_data = {}\n",
    "    web_data[\"bundle_name\"] = bundle_name\n",
    "    versions_info = get_bundle_versions(bundle_name=bundle_name)\n",
    "    # calculate download count\n",
    "    download_count = 0\n",
    "    for version in versions_info[\"all_versions\"]:\n",
    "        download_count += get_bundle_info(bundle_name=bundle_name, version=version)[\"download_count\"]\n",
    "    web_data[\"downloads\"] = download_count\n",
    "    # get latest update time, after this PR: https://github.com/Project-MONAI/MONAI/pull/5141 is merged,\n",
    "    # the data can be achieved.\n",
    "    latest_info = get_bundle_info(bundle_name=bundle_name, version=versions_info[\"latest_version\"])\n",
    "    if \"updated_at\" in latest_info:\n",
    "        web_data[\"latest_update\"] = latest_info[\"updated_at\"]\n",
    "    # download zip file and get readme, license, metadata path\n",
    "    download(name=bundle_name, version=versions_info[\"latest_version\"], bundle_dir=download_dir)\n",
    "\n",
    "    readme_path = os.path.join(download_dir, bundle_name, \"docs\", \"README.md\")\n",
    "    if os.path.exists(readme_path):\n",
    "        web_data[\"readme_path\"] = readme_path\n",
    "        \n",
    "    license_path = os.path.join(download_dir, bundle_name, \"docs\", \"license.txt\")\n",
    "    if os.path.exists(license_path):\n",
    "        web_data[\"license_path\"] = license_path\n",
    "        \n",
    "    metadata_path = os.path.join(download_dir, bundle_name, \"configs\", \"metadata.json\")\n",
    "    if os.path.exists(metadata_path):\n",
    "        web_data[\"metadata\"] = ConfigParser.load_config_file(metadata_path)\n",
    "    print(versions_info)\n",
    "    \n",
    "    return web_data"
   ]
  },
  {
   "cell_type": "code",
   "execution_count": 29,
   "id": "50d91f3f",
   "metadata": {},
   "outputs": [],
   "source": [
    "all_bundle_list = get_all_bundles_list()\n",
    "temp_dir = tempfile.mkdtemp()"
   ]
  },
  {
   "cell_type": "code",
   "execution_count": 31,
   "id": "b02143bc",
   "metadata": {},
   "outputs": [
    {
     "name": "stdout",
     "output_type": "stream",
     "text": [
      "brats_mri_segmentation\n",
      "2022-09-14 01:06:09,823 - INFO - --- input summary of monai.bundle.scripts.download ---\n",
      "2022-09-14 01:06:09,824 - INFO - > name: 'brats_mri_segmentation'\n",
      "2022-09-14 01:06:09,824 - INFO - > version: '0.1.1'\n",
      "2022-09-14 01:06:09,825 - INFO - > bundle_dir: '/tmp/tmpg2dwwgmf'\n",
      "2022-09-14 01:06:09,825 - INFO - > source: 'github'\n",
      "2022-09-14 01:06:09,826 - INFO - > repo: 'Project-MONAI/model-zoo/hosting_storage_v1'\n",
      "2022-09-14 01:06:09,826 - INFO - > progress: True\n",
      "2022-09-14 01:06:09,827 - INFO - ---\n",
      "\n",
      "\n",
      "2022-09-14 01:06:09,827 - INFO - Expected md5 is None, skip md5 check for file /tmp/tmpg2dwwgmf/brats_mri_segmentation_v0.1.1.zip.\n",
      "2022-09-14 01:06:09,828 - INFO - File exists: /tmp/tmpg2dwwgmf/brats_mri_segmentation_v0.1.1.zip, skipped downloading.\n",
      "2022-09-14 01:06:09,828 - INFO - Writing into directory: /tmp/tmpg2dwwgmf.\n",
      "{'latest_version': '0.1.1', 'all_versions': ['0.1.0', '0.1.1']}\n",
      "lung_nodule_ct_detection\n",
      "2022-09-14 01:06:10,294 - INFO - --- input summary of monai.bundle.scripts.download ---\n",
      "2022-09-14 01:06:10,295 - INFO - > name: 'lung_nodule_ct_detection'\n",
      "2022-09-14 01:06:10,295 - INFO - > version: '0.1.0'\n",
      "2022-09-14 01:06:10,296 - INFO - > bundle_dir: '/tmp/tmpg2dwwgmf'\n",
      "2022-09-14 01:06:10,296 - INFO - > source: 'github'\n",
      "2022-09-14 01:06:10,296 - INFO - > repo: 'Project-MONAI/model-zoo/hosting_storage_v1'\n",
      "2022-09-14 01:06:10,297 - INFO - > progress: True\n",
      "2022-09-14 01:06:10,298 - INFO - ---\n",
      "\n",
      "\n"
     ]
    },
    {
     "name": "stderr",
     "output_type": "stream",
     "text": [
      "lung_nodule_ct_detection_v0.1.0.zip: 148MB [00:35, 4.32MB/s]                              "
     ]
    },
    {
     "name": "stdout",
     "output_type": "stream",
     "text": [
      "2022-09-14 01:06:46,200 - INFO - Downloaded: /tmp/tmpg2dwwgmf/lung_nodule_ct_detection_v0.1.0.zip\n",
      "2022-09-14 01:06:46,201 - INFO - Expected md5 is None, skip md5 check for file /tmp/tmpg2dwwgmf/lung_nodule_ct_detection_v0.1.0.zip.\n",
      "2022-09-14 01:06:46,201 - INFO - Writing into directory: /tmp/tmpg2dwwgmf.\n"
     ]
    },
    {
     "name": "stderr",
     "output_type": "stream",
     "text": [
      "\n"
     ]
    },
    {
     "name": "stdout",
     "output_type": "stream",
     "text": [
      "{'latest_version': '0.1.0', 'all_versions': ['0.1.0']}\n",
      "mednist_gan\n",
      "2022-09-14 01:06:47,407 - INFO - --- input summary of monai.bundle.scripts.download ---\n",
      "2022-09-14 01:06:47,408 - INFO - > name: 'mednist_gan'\n",
      "2022-09-14 01:06:47,408 - INFO - > version: '0.1.0'\n",
      "2022-09-14 01:06:47,409 - INFO - > bundle_dir: '/tmp/tmpg2dwwgmf'\n",
      "2022-09-14 01:06:47,409 - INFO - > source: 'github'\n",
      "2022-09-14 01:06:47,410 - INFO - > repo: 'Project-MONAI/model-zoo/hosting_storage_v1'\n",
      "2022-09-14 01:06:47,410 - INFO - > progress: True\n",
      "2022-09-14 01:06:47,411 - INFO - ---\n",
      "\n",
      "\n"
     ]
    },
    {
     "name": "stderr",
     "output_type": "stream",
     "text": [
      "mednist_gan_v0.1.0.zip: 1.12MB [00:01, 842kB/s]                             "
     ]
    },
    {
     "name": "stdout",
     "output_type": "stream",
     "text": [
      "2022-09-14 01:06:48,816 - INFO - Downloaded: /tmp/tmpg2dwwgmf/mednist_gan_v0.1.0.zip\n",
      "2022-09-14 01:06:48,816 - INFO - Expected md5 is None, skip md5 check for file /tmp/tmpg2dwwgmf/mednist_gan_v0.1.0.zip.\n",
      "2022-09-14 01:06:48,817 - INFO - Writing into directory: /tmp/tmpg2dwwgmf.\n",
      "{'latest_version': '0.1.0', 'all_versions': ['0.1.0']}\n"
     ]
    },
    {
     "name": "stderr",
     "output_type": "stream",
     "text": [
      "\n"
     ]
    }
   ],
   "source": [
    "all_models = {}\n",
    "for item in all_bundle_list[:3]:\n",
    "    bundle_name = item[0]\n",
    "    print(bundle_name)\n",
    "    bundle_web_data = get_bundle_web_data(bundle_name, temp_dir)\n",
    "    all_models[bundle_name] = bundle_web_data"
   ]
  },
  {
   "cell_type": "code",
   "execution_count": null,
   "id": "527f2426-6433-4653-b112-7b6262e7bf54",
   "metadata": {},
   "outputs": [],
   "source": []
  },
  {
   "cell_type": "code",
   "execution_count": 17,
   "id": "80e2b0ab",
   "metadata": {},
   "outputs": [
    {
     "data": {
      "text/plain": [
       "{'bundle name': 'brats_mri_segmentation',\n",
       " 'downloads': 54,\n",
       " 'readme_path': '/tmp/tmpd1bbzih1/brats_mri_segmentation/docs/README.md',\n",
       " 'license_path': '/tmp/tmpd1bbzih1/brats_mri_segmentation/docs/license.txt',\n",
       " 'metadata': {'schema': 'https://github.com/Project-MONAI/MONAI-extra-test-data/releases/download/0.8.1/meta_schema_20220324.json',\n",
       "  'version': '0.1.1',\n",
       "  'changelog': {'0.1.1': 'update for MetaTensor',\n",
       "   '0.1.0': 'complete the model package'},\n",
       "  'monai_version': '0.9.1',\n",
       "  'pytorch_version': '1.12.0',\n",
       "  'numpy_version': '1.22.4',\n",
       "  'optional_packages_version': {'nibabel': '4.0.1', 'pytorch-ignite': '0.4.9'},\n",
       "  'task': 'Multimodal Brain Tumor segmentation',\n",
       "  'description': 'A pre-trained model for volumetric (3D) segmentation of brain tumor subregions from multimodal MRIs based on BraTS 2018 data',\n",
       "  'authors': 'MONAI team',\n",
       "  'copyright': 'Copyright (c) MONAI Consortium',\n",
       "  'data_source': 'https://www.med.upenn.edu/sbia/brats2018/data.html',\n",
       "  'data_type': 'nibabel',\n",
       "  'image_classes': '4 channel data, T1c, T1, T2, FLAIR at 1x1x1 mm',\n",
       "  'label_classes': '3 channel data, channel 0 for Tumor core, channel 1 for Whole tumor, channel 2 for Enhancing tumor',\n",
       "  'pred_classes': '3 channels data, same as label_classes',\n",
       "  'eval_metrics': {'val_mean_dice': 0.8518,\n",
       "   'val_mean_dice_tc': 0.8559,\n",
       "   'val_mean_dice_wt': 0.9026,\n",
       "   'val_mean_dice_et': 0.7905},\n",
       "  'intended_use': 'This is an example, not to be used for diagnostic purposes',\n",
       "  'references': [\"Myronenko, Andriy. '3D MRI brain tumor segmentation using autoencoder regularization.' International MICCAI Brainlesion Workshop. Springer, Cham, 2018. https://arxiv.org/abs/1810.11654\"],\n",
       "  'network_data_format': {'inputs': {'image': {'type': 'image',\n",
       "     'format': 'magnitude',\n",
       "     'modality': 'MR',\n",
       "     'num_channels': 4,\n",
       "     'spatial_shape': ['8*n', '8*n', '8*n'],\n",
       "     'dtype': 'float32',\n",
       "     'value_range': [0, 1],\n",
       "     'is_patch_data': True,\n",
       "     'channel_def': {'0': 'image'}}},\n",
       "   'outputs': {'pred': {'type': 'image',\n",
       "     'format': 'segmentation',\n",
       "     'num_channels': 3,\n",
       "     'spatial_shape': ['8*n', '8*n', '8*n'],\n",
       "     'dtype': 'float32',\n",
       "     'value_range': [0, 1],\n",
       "     'is_patch_data': True,\n",
       "     'channel_def': {'0': 'background', '1': 'spleen'}}}}}}"
      ]
     },
     "execution_count": 17,
     "metadata": {},
     "output_type": "execute_result"
    }
   ],
   "source": [
    "bundle_web_data"
   ]
  },
  {
   "cell_type": "code",
   "execution_count": 27,
   "id": "78e00b65",
   "metadata": {},
   "outputs": [
    {
     "name": "stdout",
     "output_type": "stream",
     "text": [
      "54\n",
      "A pre-trained model for volumetric (3D) segmentation of brain tumor subregions from multimodal MRIs based on BraTS 2018 data\n",
      "MONAI team\n",
      "[\"Myronenko, Andriy. '3D MRI brain tumor segmentation using autoencoder regularization.' International MICCAI Brainlesion Workshop. Springer, Cham, 2018. https://arxiv.org/abs/1810.11654\"]\n",
      "/tmp/tmpd1bbzih1/brats_mri_segmentation/docs/README.md\n"
     ]
    }
   ],
   "source": [
    "print(bundle_web_data[\"downloads\"])\n",
    "print(bundle_web_data[\"metadata\"][\"description\"])\n",
    "print(bundle_web_data[\"metadata\"][\"authors\"])\n",
    "print(bundle_web_data[\"metadata\"][\"references\"])\n",
    "print(bundle_web_data[\"readme_path\"])\n"
   ]
  },
  {
   "cell_type": "code",
   "execution_count": 42,
   "id": "b0ab210f-ebb4-4df3-aa19-21a6a1874ea1",
   "metadata": {},
   "outputs": [
    {
     "name": "stdout",
     "output_type": "stream",
     "text": [
      "56\n",
      "A pre-trained model for volumetric (3D) segmentation of brain tumor subregions from multimodal MRIs based on BraTS 2018 data\n",
      "MONAI team\n",
      "/tmp/tmpg2dwwgmf/brats_mri_segmentation/docs/README.md\n",
      "\n",
      "1\n",
      "A pre-trained model for volumetric (3D) detection of the lung lesion from CT image on LUNA16 dataset\n",
      "MONAI team\n",
      "/tmp/tmpg2dwwgmf/lung_nodule_ct_detection/docs/README.md\n",
      "\n",
      "22\n",
      "This example of a GAN generator produces hand xray images like those in the MedNIST dataset\n",
      "MONAI Team\n",
      "/tmp/tmpg2dwwgmf/mednist_gan/docs/README.md\n",
      "\n"
     ]
    }
   ],
   "source": [
    "for model in all_models:\n",
    "    print(all_models[model][\"downloads\"])\n",
    "    print(all_models[model][\"metadata\"][\"description\"])\n",
    "    print(all_models[model][\"metadata\"][\"authors\"])\n",
    "    print(all_models[model][\"readme_path\"])\n",
    "    print()"
   ]
  },
  {
   "cell_type": "code",
   "execution_count": null,
   "id": "f9b4c361-3b86-4d09-93cd-6be803eb502a",
   "metadata": {},
   "outputs": [],
   "source": []
  }
 ],
 "metadata": {
  "kernelspec": {
   "display_name": "monai",
   "language": "python",
   "name": "monai"
  },
  "language_info": {
   "codemirror_mode": {
    "name": "ipython",
    "version": 3
   },
   "file_extension": ".py",
   "mimetype": "text/x-python",
   "name": "python",
   "nbconvert_exporter": "python",
   "pygments_lexer": "ipython3",
   "version": "3.8.12"
  }
 },
 "nbformat": 4,
 "nbformat_minor": 5
}
