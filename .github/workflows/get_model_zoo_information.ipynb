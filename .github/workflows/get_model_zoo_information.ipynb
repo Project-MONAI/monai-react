{
 "cells": [
  {
   "cell_type": "code",
   "execution_count": 39,
   "id": "c0f329ee",
   "metadata": {},
   "outputs": [],
   "source": [
    "from monai.bundle import get_all_bundles_list, get_bundle_info, get_bundle_versions, download\n",
    "from monai.bundle.config_parser import ConfigParser\n",
    "from jinja2 import Environment, FileSystemLoader\n",
    "from bs4 import BeautifulSoup\n",
    "import markdown\n",
    "import requests\n",
    "import json\n",
    "import tempfile\n",
    "import os\n",
    "import re"
   ]
  },
  {
   "cell_type": "code",
   "execution_count": 7,
   "id": "79407207-d717-4e74-9579-8823d4cdff08",
   "metadata": {},
   "outputs": [],
   "source": [
    "def _get_all_bundles_info(repo: str = \"Project-MONAI/model-zoo\", tag: str = \"hosting_storage_v1\"):\n",
    "    request_url = f\"https://api.github.com/repos/{repo}/releases\"\n",
    "    resp = requests.get(request_url)\n",
    "    resp.raise_for_status()\n",
    "    releases_list = json.loads(resp.text)\n",
    "    bundle_name_pattern = re.compile(r\"_v\\d*.\")\n",
    "    bundles_info: Dict = {}\n",
    "\n",
    "    for release in releases_list:\n",
    "        if release[\"tag_name\"] == tag:\n",
    "            for asset in release[\"assets\"]:\n",
    "                asset_name = bundle_name_pattern.split(asset[\"name\"])[0]\n",
    "                if asset_name not in bundles_info:\n",
    "                    bundles_info[asset_name] = {}\n",
    "                asset_version = asset[\"name\"].split(f\"{asset_name}_v\")[-1].replace(\".zip\", \"\")\n",
    "                bundles_info[asset_name][asset_version] = {\n",
    "                    \"id\": asset[\"id\"],\n",
    "                    \"name\": asset[\"name\"],\n",
    "                    \"size\": asset[\"size\"],\n",
    "                    \"download_count\": asset[\"download_count\"],\n",
    "                    \"browser_download_url\": asset[\"browser_download_url\"],\n",
    "                    \"created_at\": asset[\"created_at\"],\n",
    "                    \"updated_at\": asset[\"updated_at\"],\n",
    "                }\n",
    "                \n",
    "    return bundles_info"
   ]
  },
  {
   "cell_type": "code",
   "execution_count": 48,
   "id": "4cdd0b2a",
   "metadata": {},
   "outputs": [],
   "source": [
    "def get_bundle_web_data(bundle_name, download_dir, all_bundles_info):\n",
    "    current_bundle = all_bundles_info[bundle_name]\n",
    "    \n",
    "    web_data = {}\n",
    "    web_data[\"bundle_name\"] = bundle_name\n",
    "    \n",
    "    download_count = 0\n",
    "    \n",
    "    for key, item in current_bundle.items():\n",
    "        download_count += item[\"download_count\"]\n",
    "    web_data[\"downloads\"] = download_count\n",
    "    \n",
    "    latest_version = sorted(current_bundle.keys())[-1]\n",
    "    \n",
    "    if \"updated_at\" in current_bundle[latest_version]:\n",
    "        web_data[\"latest_update\"] = current_bundle[latest_version][\"updated_at\"]\n",
    "        \n",
    "    # download zip file and get readme, license, metadata path\n",
    "    download(name=bundle_name, version=latest_version, bundle_dir=download_dir)\n",
    "\n",
    "    readme_path = os.path.join(download_dir, bundle_name, \"docs\", \"README.md\")\n",
    "    if os.path.exists(readme_path):\n",
    "        with open(readme_path, 'r', encoding=\"utf-8\") as f:\n",
    "            text = f.read()\n",
    "            readme_html = markdown.markdown(text, extensions=['tables', 'fenced_code'])\n",
    "            readme_soup = BeautifulSoup(readme_html, \"html.parser\")\n",
    "            for img in readme_soup.find_all('img'):\n",
    "                img_urls = img['src']\n",
    "                if \"https:\" not in img_urls or \"http:\" not in img_urls:\n",
    "                    img_urls=\"https://raw.githubusercontent.com/Project-MONAI/model-zoo/dev/models/{bundle_name}/docs/{img_name}\".format(bundle_name=bundle_name, img_name=img_urls)\n",
    "                    img['src'] = img_urls\n",
    "            \n",
    "        web_data[\"readme_path\"] = readme_path\n",
    "        web_data[\"readme_html\"] = readme_soup\n",
    "        \n",
    "    license_path = os.path.join(download_dir, bundle_name, \"docs\", \"license.txt\")\n",
    "    if os.path.exists(license_path):\n",
    "        web_data[\"license_path\"] = license_path\n",
    "        \n",
    "    metadata_path = os.path.join(download_dir, bundle_name, \"configs\", \"metadata.json\")\n",
    "    if os.path.exists(metadata_path):\n",
    "        web_data[\"metadata\"] = ConfigParser.load_config_file(metadata_path)\n",
    "        \n",
    "    web_data[\"download_url\"] = current_bundle[latest_version][\"browser_download_url\"]\n",
    "    web_data[\"size\"] = current_bundle[latest_version][\"size\"]\n",
    "    web_data[\"image_path\"] = \"https://raw.githubusercontent.com/Project-MONAI/model-zoo/dev/models/\" + bundle_name + \"/docs/\"        \n",
    "    \n",
    "    return web_data"
   ]
  },
  {
   "cell_type": "code",
   "execution_count": 35,
   "id": "0c8bbab9-0f23-470b-9abd-7f0ad18b759d",
   "metadata": {},
   "outputs": [
    {
     "name": "stdout",
     "output_type": "stream",
     "text": [
      "brats_mri_segmentation\n",
      "lung_nodule_ct_detection\n",
      "mednist_gan\n",
      "pancreas_ct_dints_segmentation\n",
      "pathology_tumor_detection\n",
      "prostate_mri_anatomy\n",
      "renalStructures_UNEST_segmentation\n",
      "spleen_ct_segmentation\n",
      "spleen_deepedit_annotation\n",
      "swin_unetr_btcv_segmentation\n",
      "valve_landmarks\n",
      "ventricular_short_axis_3label\n",
      "wholeBrainSeg_Large_UNEST_segmentation\n"
     ]
    }
   ],
   "source": [
    "all_bundle_list = _get_all_bundles_info()\n",
    "temp_dir = tempfile.mkdtemp()\n",
    "\n",
    "all_models = {}\n",
    "for item in all_bundle_list.items():\n",
    "    bundle_name = item[0]\n",
    "    bundle_web_data = get_bundle_web_data(bundle_name, temp_dir, all_bundle_list)\n",
    "    all_models[bundle_name] = bundle_web_data"
   ]
  },
  {
   "cell_type": "code",
   "execution_count": null,
   "id": "d5156a46-440c-40ec-a32f-4a282d842550",
   "metadata": {},
   "outputs": [],
   "source": []
  }
 ],
 "metadata": {
  "kernelspec": {
   "display_name": "monai",
   "language": "python",
   "name": "monai"
  },
  "language_info": {
   "codemirror_mode": {
    "name": "ipython",
    "version": 3
   },
   "file_extension": ".py",
   "mimetype": "text/x-python",
   "name": "python",
   "nbconvert_exporter": "python",
   "pygments_lexer": "ipython3",
   "version": "3.8.12"
  }
 },
 "nbformat": 4,
 "nbformat_minor": 5
}
